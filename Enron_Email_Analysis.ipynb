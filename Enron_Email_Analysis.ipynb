{
 "cells": [
  {
   "cell_type": "markdown",
   "metadata": {},
   "source": [
    "# Enron Email Analysis\n",
    "\n",
    "Download the email file from [this site](https://www.cs.cmu.edu/~enron/)\n",
    "\n",
    "The goal of this project is to answer the following questions:\n",
    "\n",
    "- 1) Which emails are spam emails?\n",
    "- 2) What main topics of discussion are found in the emails (eg. toys)?\n",
    "- 3) Who does each person send the most emails to? "
   ]
  },
  {
   "cell_type": "markdown",
   "metadata": {},
   "source": [
    "### Load Modules"
   ]
  },
  {
   "cell_type": "code",
   "execution_count": 2,
   "metadata": {
    "collapsed": true
   },
   "outputs": [],
   "source": [
    "import tarfile\n",
    "import numpy as np \n",
    "import pandas as pd\n",
    "import matplotlib.pyplot as plt\n",
    "\n",
    "from textblob import TextBlob \n",
    "\n",
    "# to read/organize all the emails into a dataframe\n",
    "from email.parser import Parser\n",
    "from os import listdir\n",
    "from os.path import isfile, join\n",
    "from email.parser import Parser\n",
    "import os\n"
   ]
  },
  {
   "cell_type": "code",
   "execution_count": null,
   "metadata": {
    "collapsed": true
   },
   "outputs": [],
   "source": [
    "path = 'C:/KaggleStuff/Emails/enron_mail_20150507.tar.gz'\n",
    "tar = tarfile.open(path) # location of enron email tar file\n",
    "tar.extractall()\n",
    "tar.close()"
   ]
  },
  {
   "cell_type": "markdown",
   "metadata": {},
   "source": [
    "### Organize Emails"
   ]
  },
  {
   "cell_type": "code",
   "execution_count": null,
   "metadata": {
    "collapsed": true
   },
   "outputs": [],
   "source": [
    "# reads in the (all documents folder)'s files for each person, organizing by To, From, Subject and body of the email\n",
    "# in the given directory \n",
    "\n",
    "def email_reader(directory):\n",
    "    emails = pd.DataFrame(columns = ['To', 'From', 'Subject', 'Body'])\n",
    "    i = 0\n",
    "    for subdir, dirs, files in os.walk(directory): \n",
    "        if 'all_documents' in subdir: # ignores the other folders\n",
    "            for f in files:\n",
    "                file_to_read= join(subdir, f)\n",
    "                with open(file_to_read, 'r') as f:\n",
    "                    data = f.read()\n",
    "                    email = Parser().parsestr(data)\n",
    "                    emails.loc[i] = [email['to'], email['from'], email['subject'], email.get_payload()]\n",
    "                    i += 1\n",
    "    return emails\n",
    "\n",
    "all_emails = email_reader('C:/KaggleStuff/Emails/maildir/')     \n",
    "\n",
    "all_emails.to_csv('all_enron_emails.csv') # reads it to a csv file"
   ]
  },
  {
   "cell_type": "markdown",
   "metadata": {},
   "source": [
    "### Data Cleaning"
   ]
  },
  {
   "cell_type": "code",
   "execution_count": 6,
   "metadata": {},
   "outputs": [],
   "source": [
    "all_emails = pd.read_csv('C:/KaggleStuff/Emails/all_enron_emails.csv')\n",
    "\n",
    "all_emails['Body'] = all_emails['Body'].replace(to_replace = ['\\n', '\\r', '\\t'], value = ['', '', ''], regex = True)"
   ]
  },
  {
   "cell_type": "code",
   "execution_count": 7,
   "metadata": {},
   "outputs": [
    {
     "data": {
      "text/html": [
       "<div>\n",
       "<style>\n",
       "    .dataframe thead tr:only-child th {\n",
       "        text-align: right;\n",
       "    }\n",
       "\n",
       "    .dataframe thead th {\n",
       "        text-align: left;\n",
       "    }\n",
       "\n",
       "    .dataframe tbody tr th {\n",
       "        vertical-align: top;\n",
       "    }\n",
       "</style>\n",
       "<table border=\"1\" class=\"dataframe\">\n",
       "  <thead>\n",
       "    <tr style=\"text-align: right;\">\n",
       "      <th></th>\n",
       "      <th>Unnamed: 0</th>\n",
       "      <th>To</th>\n",
       "      <th>From</th>\n",
       "      <th>Subject</th>\n",
       "      <th>Body</th>\n",
       "    </tr>\n",
       "  </thead>\n",
       "  <tbody>\n",
       "    <tr>\n",
       "      <th>0</th>\n",
       "      <td>0</td>\n",
       "      <td>pallen@enron.com</td>\n",
       "      <td>1.11913372.-2@multexinvestornetwork.com</td>\n",
       "      <td>December 14, 2000 - Bear Stearns' predictions ...</td>\n",
       "      <td>In today's Daily Update you'll find free repor...</td>\n",
       "    </tr>\n",
       "    <tr>\n",
       "      <th>1</th>\n",
       "      <td>1</td>\n",
       "      <td>NaN</td>\n",
       "      <td>messenger@ecm.bloomberg.com</td>\n",
       "      <td>Bloomberg Power Lines Report</td>\n",
       "      <td>Here is today's copy of Bloomberg Power Lines....</td>\n",
       "    </tr>\n",
       "    <tr>\n",
       "      <th>2</th>\n",
       "      <td>2</td>\n",
       "      <td>keith.holst@enron.com</td>\n",
       "      <td>phillip.allen@enron.com</td>\n",
       "      <td>Consolidated positions: Issues &amp; To Do list</td>\n",
       "      <td>---------------------- Forwarded by Phillip K ...</td>\n",
       "    </tr>\n",
       "    <tr>\n",
       "      <th>3</th>\n",
       "      <td>3</td>\n",
       "      <td>keith.holst@enron.com</td>\n",
       "      <td>phillip.allen@enron.com</td>\n",
       "      <td>Consolidated positions: Issues &amp; To Do list</td>\n",
       "      <td>---------------------- Forwarded by Phillip K ...</td>\n",
       "    </tr>\n",
       "    <tr>\n",
       "      <th>4</th>\n",
       "      <td>4</td>\n",
       "      <td>david.delainey@enron.com</td>\n",
       "      <td>phillip.allen@enron.com</td>\n",
       "      <td>NaN</td>\n",
       "      <td>Dave,  Here are the names of the west desk mem...</td>\n",
       "    </tr>\n",
       "  </tbody>\n",
       "</table>\n",
       "</div>"
      ],
      "text/plain": [
       "   Unnamed: 0                        To  \\\n",
       "0           0          pallen@enron.com   \n",
       "1           1                       NaN   \n",
       "2           2     keith.holst@enron.com   \n",
       "3           3     keith.holst@enron.com   \n",
       "4           4  david.delainey@enron.com   \n",
       "\n",
       "                                      From  \\\n",
       "0  1.11913372.-2@multexinvestornetwork.com   \n",
       "1              messenger@ecm.bloomberg.com   \n",
       "2                  phillip.allen@enron.com   \n",
       "3                  phillip.allen@enron.com   \n",
       "4                  phillip.allen@enron.com   \n",
       "\n",
       "                                             Subject  \\\n",
       "0  December 14, 2000 - Bear Stearns' predictions ...   \n",
       "1                       Bloomberg Power Lines Report   \n",
       "2        Consolidated positions: Issues & To Do list   \n",
       "3        Consolidated positions: Issues & To Do list   \n",
       "4                                                NaN   \n",
       "\n",
       "                                                Body  \n",
       "0  In today's Daily Update you'll find free repor...  \n",
       "1  Here is today's copy of Bloomberg Power Lines....  \n",
       "2  ---------------------- Forwarded by Phillip K ...  \n",
       "3  ---------------------- Forwarded by Phillip K ...  \n",
       "4  Dave,  Here are the names of the west desk mem...  "
      ]
     },
     "execution_count": 7,
     "metadata": {},
     "output_type": "execute_result"
    }
   ],
   "source": [
    "all_emails.head()"
   ]
  },
  {
   "cell_type": "markdown",
   "metadata": {},
   "source": []
  }
 ],
 "metadata": {
  "kernelspec": {
   "display_name": "Python 3",
   "language": "python",
   "name": "python3"
  },
  "language_info": {
   "codemirror_mode": {
    "name": "ipython",
    "version": 3
   },
   "file_extension": ".py",
   "mimetype": "text/x-python",
   "name": "python",
   "nbconvert_exporter": "python",
   "pygments_lexer": "ipython3",
   "version": "3.6.2"
  }
 },
 "nbformat": 4,
 "nbformat_minor": 2
}
